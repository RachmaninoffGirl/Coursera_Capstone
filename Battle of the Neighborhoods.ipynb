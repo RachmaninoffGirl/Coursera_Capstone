{
    "cells": [
        {
            "metadata": {
                "collapsed": true
            },
            "cell_type": "markdown",
            "source": "# # Battle of the Neighborhoods\n# Introduction\nAllie is moving with her family to Indianapolis, Indiana this summer. She is tasked by her aunt, uncle and cousin to find a safe neighborhood to live in that fits the personality traits of the family. \n\nAunt Maggie loves exploring coffee shops and libraries/bookstores on the weekends. \n\nUncle Joe is an active spirit who loves teaching weight training at local gyms and going on runs in local parks. \n\nCousin Amy is a social butterfly who wants a good assortment of pubs, bars and restaurants near her for entertainment.\n\nThe new house must be within 10 minutes of each of family member's favorite activity.\n\nAllie decides to make a list of the top 5 safest neighborhoods in Indianapolis that are within ten minutes of these venues. She ranks them in order of safety to present to her family. \n\n# Data\nI need the following data to solve this problem:\n\nCrime rates in Indianapolis by neighborhood\nFoursquare venue information by neighborhood\n\n"
        }
    ],
    "metadata": {
        "kernelspec": {
            "name": "python3",
            "display_name": "Python 3.6",
            "language": "python"
        },
        "language_info": {
            "name": "python",
            "version": "3.6.9",
            "mimetype": "text/x-python",
            "codemirror_mode": {
                "name": "ipython",
                "version": 3
            },
            "pygments_lexer": "ipython3",
            "nbconvert_exporter": "python",
            "file_extension": ".py"
        }
    },
    "nbformat": 4,
    "nbformat_minor": 1
}